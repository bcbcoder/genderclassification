{
 "cells": [
  {
   "cell_type": "code",
   "execution_count": 51,
   "id": "a5fa1b56",
   "metadata": {},
   "outputs": [],
   "source": [
    "import pandas as pd\n",
    "import numpy as np"
   ]
  },
  {
   "cell_type": "code",
   "execution_count": 52,
   "id": "3bef07e3",
   "metadata": {},
   "outputs": [],
   "source": [
    "gender=pd.read_csv('gender_classification_v7.csv')"
   ]
  },
  {
   "cell_type": "code",
   "execution_count": 53,
   "id": "575cc0d6",
   "metadata": {},
   "outputs": [
    {
     "data": {
      "text/html": [
       "<div>\n",
       "<style scoped>\n",
       "    .dataframe tbody tr th:only-of-type {\n",
       "        vertical-align: middle;\n",
       "    }\n",
       "\n",
       "    .dataframe tbody tr th {\n",
       "        vertical-align: top;\n",
       "    }\n",
       "\n",
       "    .dataframe thead th {\n",
       "        text-align: right;\n",
       "    }\n",
       "</style>\n",
       "<table border=\"1\" class=\"dataframe\">\n",
       "  <thead>\n",
       "    <tr style=\"text-align: right;\">\n",
       "      <th></th>\n",
       "      <th>long_hair</th>\n",
       "      <th>forehead_width_cm</th>\n",
       "      <th>forehead_height_cm</th>\n",
       "      <th>nose_wide</th>\n",
       "      <th>nose_long</th>\n",
       "      <th>lips_thin</th>\n",
       "      <th>distance_nose_to_lip_long</th>\n",
       "      <th>gender</th>\n",
       "    </tr>\n",
       "  </thead>\n",
       "  <tbody>\n",
       "    <tr>\n",
       "      <th>0</th>\n",
       "      <td>1</td>\n",
       "      <td>11.8</td>\n",
       "      <td>6.1</td>\n",
       "      <td>1</td>\n",
       "      <td>0</td>\n",
       "      <td>1</td>\n",
       "      <td>1</td>\n",
       "      <td>Male</td>\n",
       "    </tr>\n",
       "    <tr>\n",
       "      <th>1</th>\n",
       "      <td>0</td>\n",
       "      <td>14.0</td>\n",
       "      <td>5.4</td>\n",
       "      <td>0</td>\n",
       "      <td>0</td>\n",
       "      <td>1</td>\n",
       "      <td>0</td>\n",
       "      <td>Female</td>\n",
       "    </tr>\n",
       "    <tr>\n",
       "      <th>2</th>\n",
       "      <td>0</td>\n",
       "      <td>11.8</td>\n",
       "      <td>6.3</td>\n",
       "      <td>1</td>\n",
       "      <td>1</td>\n",
       "      <td>1</td>\n",
       "      <td>1</td>\n",
       "      <td>Male</td>\n",
       "    </tr>\n",
       "    <tr>\n",
       "      <th>3</th>\n",
       "      <td>0</td>\n",
       "      <td>14.4</td>\n",
       "      <td>6.1</td>\n",
       "      <td>0</td>\n",
       "      <td>1</td>\n",
       "      <td>1</td>\n",
       "      <td>1</td>\n",
       "      <td>Male</td>\n",
       "    </tr>\n",
       "    <tr>\n",
       "      <th>4</th>\n",
       "      <td>1</td>\n",
       "      <td>13.5</td>\n",
       "      <td>5.9</td>\n",
       "      <td>0</td>\n",
       "      <td>0</td>\n",
       "      <td>0</td>\n",
       "      <td>0</td>\n",
       "      <td>Female</td>\n",
       "    </tr>\n",
       "  </tbody>\n",
       "</table>\n",
       "</div>"
      ],
      "text/plain": [
       "   long_hair  forehead_width_cm  forehead_height_cm  nose_wide  nose_long  \\\n",
       "0          1               11.8                 6.1          1          0   \n",
       "1          0               14.0                 5.4          0          0   \n",
       "2          0               11.8                 6.3          1          1   \n",
       "3          0               14.4                 6.1          0          1   \n",
       "4          1               13.5                 5.9          0          0   \n",
       "\n",
       "   lips_thin  distance_nose_to_lip_long  gender  \n",
       "0          1                          1    Male  \n",
       "1          1                          0  Female  \n",
       "2          1                          1    Male  \n",
       "3          1                          1    Male  \n",
       "4          0                          0  Female  "
      ]
     },
     "execution_count": 53,
     "metadata": {},
     "output_type": "execute_result"
    }
   ],
   "source": [
    "gender.head()"
   ]
  },
  {
   "cell_type": "code",
   "execution_count": 54,
   "id": "fe6d4b71",
   "metadata": {},
   "outputs": [],
   "source": [
    "from sklearn.model_selection import train_test_split"
   ]
  },
  {
   "cell_type": "code",
   "execution_count": 55,
   "id": "0d859e00",
   "metadata": {},
   "outputs": [],
   "source": [
    "X_train, X_test, y_train, y_test = train_test_split(gender.drop(columns=['gender']), \n",
    "                                                    gender['gender'],\n",
    "                 test_size=0.25, random_state=2500)"
   ]
  },
  {
   "cell_type": "code",
   "execution_count": 56,
   "id": "db7b735e",
   "metadata": {},
   "outputs": [
    {
     "data": {
      "text/plain": [
       "<bound method Series.info of 3035    Female\n",
       "4688    Female\n",
       "2641      Male\n",
       "4829      Male\n",
       "2462      Male\n",
       "         ...  \n",
       "604     Female\n",
       "4006      Male\n",
       "2113    Female\n",
       "3936      Male\n",
       "160     Female\n",
       "Name: gender, Length: 3750, dtype: object>"
      ]
     },
     "execution_count": 56,
     "metadata": {},
     "output_type": "execute_result"
    }
   ],
   "source": [
    "gender.info\n",
    "y_train.info"
   ]
  },
  {
   "cell_type": "code",
   "execution_count": 57,
   "id": "e09a1949",
   "metadata": {},
   "outputs": [
    {
     "data": {
      "text/plain": [
       "0.9672262190247801"
      ]
     },
     "execution_count": 57,
     "metadata": {},
     "output_type": "execute_result"
    }
   ],
   "source": [
    "from sklearn.ensemble import RandomForestClassifier\n",
    "forest=RandomForestClassifier(n_estimators=7,random_state=2500)\n",
    "forest.fit(X_train,y_train)\n",
    "forest.score(X_test,y_test)"
   ]
  },
  {
   "cell_type": "code",
   "execution_count": 58,
   "id": "7aa2d81f",
   "metadata": {},
   "outputs": [
    {
     "data": {
      "text/plain": [
       "0.9949333333333333"
      ]
     },
     "execution_count": 58,
     "metadata": {},
     "output_type": "execute_result"
    }
   ],
   "source": [
    "forest.score(X_train,y_train)"
   ]
  },
  {
   "cell_type": "code",
   "execution_count": 59,
   "id": "8a058706",
   "metadata": {},
   "outputs": [
    {
     "data": {
      "text/plain": [
       "array([0.00393564, 0.06465383, 0.04763748, 0.30249953, 0.29084732,\n",
       "       0.09296724, 0.19745896])"
      ]
     },
     "execution_count": 59,
     "metadata": {},
     "output_type": "execute_result"
    }
   ],
   "source": [
    "forest.feature_importances_"
   ]
  },
  {
   "cell_type": "code",
   "execution_count": 60,
   "id": "89097b4e",
   "metadata": {},
   "outputs": [],
   "source": [
    "import matplotlib.pyplot as plt"
   ]
  },
  {
   "cell_type": "code",
   "execution_count": 61,
   "id": "7f000510",
   "metadata": {},
   "outputs": [
    {
     "data": {
      "text/plain": [
       "array([0, 1, 2, 3, 4, 5, 6])"
      ]
     },
     "execution_count": 61,
     "metadata": {},
     "output_type": "execute_result"
    }
   ],
   "source": [
    "n_features=X_train.shape[1]\n",
    "np.arange(n_features)"
   ]
  },
  {
   "cell_type": "code",
   "execution_count": 62,
   "id": "adcc844d",
   "metadata": {},
   "outputs": [
    {
     "data": {
      "text/plain": [
       "Text(0, 0.5, 'feature names')"
      ]
     },
     "execution_count": 62,
     "metadata": {},
     "output_type": "execute_result"
    },
    {
     "data": {
      "image/png": "[encoded data removed]",
      "text/plain": [
       "<Figure size 640x480 with 1 Axes>"
      ]
     },
     "metadata": {},
     "output_type": "display_data"
    }
   ],
   "source": [
    "plt.barh(range(n_features),forest.feature_importances_)\n",
    "plt.yticks(ticks=np.arange(n_features), labels=X_train.columns)\n",
    "plt.xlim(right=0.2) \n",
    "plt.show\n",
    "plt.xlabel(\"importance of features\")\n",
    "plt.ylabel(\"feature names\")"
   ]
  },
  {
   "cell_type": "code",
   "execution_count": 63,
   "id": "4f01d0bb",
   "metadata": {},
   "outputs": [
    {
     "data": {
      "text/plain": [
       "Text(0, 0.5, 'feature names')"
      ]
     },
     "execution_count": 63,
     "metadata": {},
     "output_type": "execute_result"
    },
    {
     "data": {
      "image/png": "[encoded data removed]",
      "text/plain": [
       "<Figure size 640x480 with 1 Axes>"
      ]
     },
     "metadata": {},
     "output_type": "display_data"
    }
   ],
   "source": [
    "plt.barh(range(n_features),forest.feature_importances_)\n",
    "plt.yticks(ticks=np.arange(n_features), labels=X_train.columns)\n",
    "#plt.xlim(right=0.2) \n",
    "plt.show\n",
    "plt.xlabel(\"importance of features\")\n",
    "plt.ylabel(\"feature names\")"
   ]
  },
  {
   "cell_type": "code",
   "execution_count": 64,
   "id": "77f2cf0a",
   "metadata": {},
   "outputs": [
    {
     "name": "stdout",
     "output_type": "stream",
     "text": [
      "the score of the random forest in training data is0.9949333333333333\n",
      "the score of the random forest in test data is0.9672262190247801\n"
     ]
    }
   ],
   "source": [
    "train_data_score_RF=forest.score(X_train,y_train)\n",
    "test_data_score_RF=forest.score(X_test,y_test)\n",
    "\n",
    "print('the score of the random forest in training data is'+str(train_data_score_RF))\n",
    "print('the score of the random forest in test data is'+str(test_data_score_RF))"
   ]
  },
  {
   "cell_type": "code",
   "execution_count": 65,
   "id": "5032863d",
   "metadata": {},
   "outputs": [],
   "source": [
    "from sklearn import metrics \n",
    "from sklearn.metrics import classification_report\n",
    "import seaborn as sns"
   ]
  },
  {
   "cell_type": "code",
   "execution_count": 66,
   "id": "74da013d",
   "metadata": {},
   "outputs": [],
   "source": [
    "y_predict = forest.predict(X_test)"
   ]
  },
  {
   "cell_type": "code",
   "execution_count": 67,
   "id": "c1822f9c",
   "metadata": {},
   "outputs": [],
   "source": [
    "confusion_matrix = metrics.confusion_matrix(y_test, y_predict)"
   ]
  },
  {
   "cell_type": "code",
   "execution_count": 68,
   "id": "378d4222",
   "metadata": {},
   "outputs": [
    {
     "data": {
      "text/plain": [
       "([<matplotlib.axis.YTick at 0x7fb1100cc850>,\n",
       "  <matplotlib.axis.YTick at 0x7fb1100cc0d0>],\n",
       " [Text(0, 0.5, 'Female'), Text(0, 1.5, 'Male')])"
      ]
     },
     "execution_count": 68,
     "metadata": {},
     "output_type": "execute_result"
    },
    {
     "data": {
      "image/png": "[encoded data removed]",
      "text/plain": [
       "<Figure size 640x480 with 1 Axes>"
      ]
     },
     "metadata": {},
     "output_type": "display_data"
    }
   ],
   "source": [
    "sns.heatmap(confusion_matrix, cmap='Purples', annot=True, cbar=False, fmt='d')\n",
    "plt.xlabel(\"Predicted Classes\")\n",
    "plt.ylabel(\"Actual Classes\")\n",
    "plt.xticks(np.arange(2) + 0.5, [\"Female\", \"Male\"])\n",
    "plt.yticks(np.arange(2) + 0.5, [\"Female\", \"Male\"])"
   ]
  },
  {
   "cell_type": "code",
   "execution_count": null,
   "id": "d661aeb4",
   "metadata": {},
   "outputs": [],
   "source": []
  },
  {
   "cell_type": "code",
   "execution_count": 50,
   "id": "db54acb7",
   "metadata": {},
   "outputs": [
    {
     "data": {
      "text/html": [
       "<div>\n",
       "<style scoped>\n",
       "    .dataframe tbody tr th:only-of-type {\n",
       "        vertical-align: middle;\n",
       "    }\n",
       "\n",
       "    .dataframe tbody tr th {\n",
       "        vertical-align: top;\n",
       "    }\n",
       "\n",
       "    .dataframe thead th {\n",
       "        text-align: right;\n",
       "    }\n",
       "</style>\n",
       "<table border=\"1\" class=\"dataframe\">\n",
       "  <thead>\n",
       "    <tr style=\"text-align: right;\">\n",
       "      <th></th>\n",
       "      <th>long_hair</th>\n",
       "      <th>forehead_width_cm</th>\n",
       "      <th>forehead_height_cm</th>\n",
       "      <th>nose_wide</th>\n",
       "      <th>nose_long</th>\n",
       "      <th>lips_thin</th>\n",
       "      <th>distance_nose_to_lip_long</th>\n",
       "    </tr>\n",
       "  </thead>\n",
       "  <tbody>\n",
       "    <tr>\n",
       "      <th>long_hair</th>\n",
       "      <td>1.000000</td>\n",
       "      <td>-0.006530</td>\n",
       "      <td>-0.017233</td>\n",
       "      <td>0.001216</td>\n",
       "      <td>0.014432</td>\n",
       "      <td>0.011287</td>\n",
       "      <td>-0.025794</td>\n",
       "    </tr>\n",
       "    <tr>\n",
       "      <th>forehead_width_cm</th>\n",
       "      <td>-0.006530</td>\n",
       "      <td>1.000000</td>\n",
       "      <td>0.088596</td>\n",
       "      <td>0.251648</td>\n",
       "      <td>0.257368</td>\n",
       "      <td>0.258564</td>\n",
       "      <td>0.251328</td>\n",
       "    </tr>\n",
       "    <tr>\n",
       "      <th>forehead_height_cm</th>\n",
       "      <td>-0.017233</td>\n",
       "      <td>0.088596</td>\n",
       "      <td>1.000000</td>\n",
       "      <td>0.211655</td>\n",
       "      <td>0.194120</td>\n",
       "      <td>0.205441</td>\n",
       "      <td>0.215292</td>\n",
       "    </tr>\n",
       "    <tr>\n",
       "      <th>nose_wide</th>\n",
       "      <td>0.001216</td>\n",
       "      <td>0.251648</td>\n",
       "      <td>0.211655</td>\n",
       "      <td>1.000000</td>\n",
       "      <td>0.565192</td>\n",
       "      <td>0.557615</td>\n",
       "      <td>0.569303</td>\n",
       "    </tr>\n",
       "    <tr>\n",
       "      <th>nose_long</th>\n",
       "      <td>0.014432</td>\n",
       "      <td>0.257368</td>\n",
       "      <td>0.194120</td>\n",
       "      <td>0.565192</td>\n",
       "      <td>1.000000</td>\n",
       "      <td>0.561229</td>\n",
       "      <td>0.559794</td>\n",
       "    </tr>\n",
       "    <tr>\n",
       "      <th>lips_thin</th>\n",
       "      <td>0.011287</td>\n",
       "      <td>0.258564</td>\n",
       "      <td>0.205441</td>\n",
       "      <td>0.557615</td>\n",
       "      <td>0.561229</td>\n",
       "      <td>1.000000</td>\n",
       "      <td>0.565312</td>\n",
       "    </tr>\n",
       "    <tr>\n",
       "      <th>distance_nose_to_lip_long</th>\n",
       "      <td>-0.025794</td>\n",
       "      <td>0.251328</td>\n",
       "      <td>0.215292</td>\n",
       "      <td>0.569303</td>\n",
       "      <td>0.559794</td>\n",
       "      <td>0.565312</td>\n",
       "      <td>1.000000</td>\n",
       "    </tr>\n",
       "  </tbody>\n",
       "</table>\n",
       "</div>"
      ],
      "text/plain": [
       "                           long_hair  forehead_width_cm  forehead_height_cm  \\\n",
       "long_hair                   1.000000          -0.006530           -0.017233   \n",
       "forehead_width_cm          -0.006530           1.000000            0.088596   \n",
       "forehead_height_cm         -0.017233           0.088596            1.000000   \n",
       "nose_wide                   0.001216           0.251648            0.211655   \n",
       "nose_long                   0.014432           0.257368            0.194120   \n",
       "lips_thin                   0.011287           0.258564            0.205441   \n",
       "distance_nose_to_lip_long  -0.025794           0.251328            0.215292   \n",
       "\n",
       "                           nose_wide  nose_long  lips_thin  \\\n",
       "long_hair                   0.001216   0.014432   0.011287   \n",
       "forehead_width_cm           0.251648   0.257368   0.258564   \n",
       "forehead_height_cm          0.211655   0.194120   0.205441   \n",
       "nose_wide                   1.000000   0.565192   0.557615   \n",
       "nose_long                   0.565192   1.000000   0.561229   \n",
       "lips_thin                   0.557615   0.561229   1.000000   \n",
       "distance_nose_to_lip_long   0.569303   0.559794   0.565312   \n",
       "\n",
       "                           distance_nose_to_lip_long  \n",
       "long_hair                                  -0.025794  \n",
       "forehead_width_cm                           0.251328  \n",
       "forehead_height_cm                          0.215292  \n",
       "nose_wide                                   0.569303  \n",
       "nose_long                                   0.559794  \n",
       "lips_thin                                   0.565312  \n",
       "distance_nose_to_lip_long                   1.000000  "
      ]
     },
     "execution_count": 50,
     "metadata": {},
     "output_type": "execute_result"
    }
   ],
   "source": []
  },
  {
   "cell_type": "code",
   "execution_count": null,
   "id": "9e945f0e",
   "metadata": {},
   "outputs": [],
   "source": []
  }
 ],
 "metadata": {
  "kernelspec": {
   "display_name": "Python 3 (ipykernel)",
   "language": "python",
   "name": "python3"
  },
  "language_info": {
   "codemirror_mode": {
    "name": "ipython",
    "version": 3
   },
   "file_extension": ".py",
   "mimetype": "text/x-python",
   "name": "python",
   "nbconvert_exporter": "python",
   "pygments_lexer": "ipython3",
   "version": "3.9.13"
  },
  "widgets": {
   "application/vnd.jupyter.widget-state+json": {
    "state": {},
    "version_major": 2,
    "version_minor": 0
   }
  }
 },
 "nbformat": 4,
 "nbformat_minor": 5
}
